{
 "cells": [
  {
   "cell_type": "markdown",
   "metadata": {
    "id": "E3C11lOCCfk9"
   },
   "source": [
    "# KI-Campus: Learn2Trust\n",
    "## Lektion 3: Medizinische Bilddatensätze"
   ]
  },
  {
   "cell_type": "markdown",
   "metadata": {
    "id": "woU7mUz_Vbdj"
   },
   "source": [
    "### 1. Einführung\n",
    "In dieser Lektion geht es um die Grundlage von KI-Modellen in der medizinischen Bildverarbeitung, den Bilddatensätzen.\n",
    "\n",
    "Am Beispiel von verschiedenen medizinischen Bilddaten wird die Vorverarbeitung und Augmentierung von medizinischen Bilddatensätzen vorgestellt."
   ]
  },
  {
   "cell_type": "markdown",
   "metadata": {
    "id": "LlsGSd160oaS"
   },
   "source": [
    "*Importieren von benötigten Paketen und weiteren Dateien:*"
   ]
  },
  {
   "cell_type": "code",
   "execution_count": null,
   "metadata": {
    "id": "lsY19AtPTQOS"
   },
   "outputs": [],
   "source": [
    "# import packages\n",
    "import torch\n",
    "import numpy as np\n",
    "import matplotlib.pyplot as plt\n",
    "import torchvision.transforms as T\n",
    "from PIL import Image\n",
    "from skimage.util import random_noise\n",
    "\n",
    "import warnings\n",
    "warnings.filterwarnings(\"ignore\") \n",
    "\n",
    "torch.manual_seed(9999);"
   ]
  },
  {
   "cell_type": "markdown",
   "metadata": {
    "id": "hE7MymTx1kgM"
   },
   "source": [
    "*Definition Plot-Funktionen:*"
   ]
  },
  {
   "cell_type": "code",
   "execution_count": null,
   "metadata": {
    "id": "9bvg1cBSRNul"
   },
   "outputs": [],
   "source": [
    "# plot images\n",
    "def plot_images(thorax_img, skin_img, brain_img):\n",
    "    plt.imshow(thorax_img, cmap='gray')\n",
    "    plt.title('Thorax')\n",
    "    plt.show()\n",
    "\n",
    "    plt.imshow(skin_img)\n",
    "    plt.title('Skin')\n",
    "    plt.show()\n",
    "\n",
    "    plt.imshow(brain_img, cmap='gray')\n",
    "    plt.title('Brain')\n",
    "    plt.show()\n",
    "\n",
    "#plot before and after\n",
    "def plot_images_before_after(thorax_img_before, skin_img_before, brain_img_before, thorax_img_after, skin_img_after, brain_img_after):\n",
    "    \n",
    "    plt.figure(figsize=[15, 15])\n",
    "    \n",
    "    plt.subplot(3,2,1)\n",
    "    plt.imshow(thorax_img_before, cmap='gray')\n",
    "    plt.title('Thorax Before')\n",
    "    \n",
    "    plt.subplot(3,2,2)\n",
    "    plt.imshow(thorax_img_after, cmap='gray')\n",
    "    plt.title('Thorax After')\n",
    "    \n",
    "    plt.subplot(3,2,3)\n",
    "    plt.imshow(skin_img_before)\n",
    "    plt.title('Skin Before')\n",
    "    \n",
    "    plt.subplot(3,2,4)\n",
    "    plt.imshow(skin_img_after)\n",
    "    plt.title('Skin After')\n",
    "    \n",
    "    plt.subplot(3,2,5)\n",
    "    plt.imshow(brain_img_before, cmap='gray')\n",
    "    plt.title('Brain Before')\n",
    "    \n",
    "    plt.subplot(3,2,6)\n",
    "    plt.imshow(brain_img_after, cmap='gray')\n",
    "    plt.title('Brain After')\n",
    "    plt.show()"
   ]
  },
  {
   "cell_type": "markdown",
   "metadata": {
    "id": "WorIul1_C9Pg"
   },
   "source": [
    "### 2. Daten\n",
    "Die Daten für diese Lektion bestehen aus einer Röntgen Thorax Aufahme, einer Nahaufnahme der Haut und aus einem Gehirn MRT-Scan, um unterschiedliche Bildmodalitäten der klinischen Praxis darzustellen."
   ]
  },
  {
   "cell_type": "markdown",
   "metadata": {
    "id": "JYFEwRvr1NpB"
   },
   "source": [
    "*Laden der Bilddaten:*"
   ]
  },
  {
   "cell_type": "code",
   "execution_count": null,
   "metadata": {
    "id": "5tQe7IKGTQOW"
   },
   "outputs": [],
   "source": [
    "# load image data\n",
    "Thorax_img_orig = Image.open('thorax_img.jpeg')\n",
    "Skin_img_orig = Image.open('skin_img.jpg')\n",
    "Brain_img_orig = Image.open('brain_img.png')\n",
    "\n",
    "# print data specs\n",
    "print(f'shape of data:\\nThorax_img: {Thorax_img_orig.size}\\nSkin_img: {Skin_img_orig.size}\\nBrain_img: {Brain_img_orig.size}')"
   ]
  },
  {
   "cell_type": "markdown",
   "metadata": {
    "id": "19y7Trwd1aeu"
   },
   "source": [
    "*Einfache Vorverarbeitung, um alle Bilder auf die gleiche Ausgangsgröße zuzuschneiden:*"
   ]
  },
  {
   "cell_type": "code",
   "execution_count": null,
   "metadata": {
    "id": "TEjN4Ut1Ppvs"
   },
   "outputs": [],
   "source": [
    "# basic preprocessing\n",
    "Thorax_img = T.Resize(size=512)(Thorax_img_orig)\n",
    "Thorax_img = T.CenterCrop(size=[512, 512])(Thorax_img)\n",
    "\n",
    "Skin_img = T.Resize(size=512)(Skin_img_orig)\n",
    "Skin_img = T.CenterCrop(size=[512, 512])(Skin_img)\n",
    "\n",
    "Brain_img = T.Resize(size=512)(Brain_img_orig)\n",
    "Brain_img = T.CenterCrop(size=[512, 512])(Brain_img)\n",
    "\n",
    "# print data specs\n",
    "print(f'shape of data:\\nThorax_img: {Thorax_img.size}\\nSkin_img: {Skin_img.size}\\nBrain_img: {Brain_img.size}')"
   ]
  },
  {
   "cell_type": "markdown",
   "metadata": {
    "id": "pRbRRldX3Zo3"
   },
   "source": [
    "*Darstellung der Ausgangsbilder:*"
   ]
  },
  {
   "cell_type": "code",
   "execution_count": null,
   "metadata": {
    "id": "1IQfl_M3XVQy"
   },
   "outputs": [],
   "source": [
    "plot_images(Thorax_img, Skin_img, Brain_img)"
   ]
  },
  {
   "cell_type": "markdown",
   "metadata": {
    "id": "LCIiRsoVR8WO"
   },
   "source": [
    "### 4. Vorverarbeitung\n",
    "Im Rahmen der Vorverarbeitung werden die Bilder bezüglich ihrer Bildbereiche, Größe, Auflösung und Wertebereich vereinheitlicht.\n",
    "\n",
    "Häufig eingesetzte Methoden zur Vorverarbeitung sind zum Beispiel die Größenänderung (engl. *Resizing*), das Zuschneiden (engl. *Cropping*) und das Auffüllen (engl. *Padding*)."
   ]
  },
  {
   "cell_type": "markdown",
   "metadata": {
    "id": "VPynTiuB2CAf"
   },
   "source": [
    "*Definition von drei Vorverarbeitungsmethoden:*"
   ]
  },
  {
   "cell_type": "code",
   "execution_count": null,
   "metadata": {
    "id": "660y4t-hTIvz"
   },
   "outputs": [],
   "source": [
    "preprocessing = []  # preprocessing is a list which is filled with functions applied to the image data by executing the specific cells."
   ]
  },
  {
   "cell_type": "markdown",
   "metadata": {},
   "source": [
    "**Resizing**"
   ]
  },
  {
   "cell_type": "code",
   "execution_count": null,
   "metadata": {
    "id": "dbd_r-bcSM2N"
   },
   "outputs": [],
   "source": [
    "# resize\n",
    "new_size = (256, 256)  # Change the integer values in 'new_size' to set the outcoming image resolution.\n",
    "interpolation_modes = [Image.NEAREST, Image.BILINEAR, Image.BICUBIC]  # Change the selected index of 'interpolation_modes[X]' to set the interpolation method.\n",
    "\n",
    "preprocessing.append(T.Resize(size=new_size, interpolation=interpolation_modes[0]))"
   ]
  },
  {
   "cell_type": "markdown",
   "metadata": {},
   "source": [
    "**Cropping**"
   ]
  },
  {
   "cell_type": "code",
   "execution_count": null,
   "metadata": {
    "id": "ycRldWC_Tnnl"
   },
   "outputs": [],
   "source": [
    "# crop\n",
    "crop_size = 256  # Change 'crop_size' to set the desired output size of crop.\n",
    "\n",
    "preprocessing.append(T.CenterCrop(size=crop_size))"
   ]
  },
  {
   "cell_type": "markdown",
   "metadata": {},
   "source": [
    "**Padding**"
   ]
  },
  {
   "cell_type": "code",
   "execution_count": null,
   "metadata": {
    "id": "VfEtRkH-T8fF"
   },
   "outputs": [],
   "source": [
    "# padding\n",
    "n_padding_pixel = 10  # Sets the number of padded pixels on each border.\n",
    "padding_modes = ['constant', 'edge', 'reflect', 'symmetric']  # Choose one of four different padding modes by setting the value in 'padding_modes[X]'.\n",
    "\n",
    "preprocessing.append(T.Pad(padding=n_padding_pixel, padding_mode=padding_modes[0]))"
   ]
  },
  {
   "cell_type": "markdown",
   "metadata": {
    "id": "q-DFJtqJ2Irc"
   },
   "source": [
    "*Anwendung der Vorverarbeitungsmethoden:*"
   ]
  },
  {
   "cell_type": "code",
   "execution_count": null,
   "metadata": {
    "id": "YVFb3TD8Ufz1"
   },
   "outputs": [],
   "source": [
    "# apply preprocessing functions onto image data\n",
    "preprocess = torch.nn.Sequential(*preprocessing)\n",
    "\n",
    "Thorax_img_preprocessed = preprocess(Thorax_img)\n",
    "Skin_img_preprocessed = preprocess(Skin_img)\n",
    "Brain_img_preprocessed = preprocess(Brain_img)"
   ]
  },
  {
   "cell_type": "markdown",
   "metadata": {
    "id": "deJhiNsg2RWd"
   },
   "source": [
    "*Darstellung der vorverarbeiteten Bilder:*"
   ]
  },
  {
   "cell_type": "code",
   "execution_count": null,
   "metadata": {
    "id": "gN8thOKjUvsB"
   },
   "outputs": [],
   "source": [
    "# display\n",
    "plot_images_before_after(Thorax_img, Skin_img, Brain_img, Thorax_img_preprocessed, Skin_img_preprocessed, Brain_img_preprocessed)"
   ]
  },
  {
   "cell_type": "markdown",
   "metadata": {
    "id": "C7gwnWaBYKzd"
   },
   "source": [
    "### 5. Augmentierung\n",
    "Augmentierung stellt eine Erweiterung des Datensatzes durch Hinzufügen von zusätzlichen Daten dar, mit dem Ziel den Datensatz **größer** und **vielseitiger** zu gestalten. Daten die dafür genutzt werden können sind modifizierte Kopien vorhandener Daten oder synthetische Daten."
   ]
  },
  {
   "cell_type": "code",
   "execution_count": null,
   "metadata": {
    "id": "pXq1DmrR1Zh8"
   },
   "outputs": [],
   "source": [
    "'''\n",
    "If you want to do the augmentation on the preprocessed images of the previous \n",
    "section, set 'use_preprocessed = True'.\n",
    "'''\n",
    "\n",
    "use_preprocessed = False\n",
    "\n",
    "if use_preprocessed:\n",
    "    Thorax_img_init = Thorax_img_preprocessed\n",
    "    Skin_img_init = Skin_img_preprocessed\n",
    "    Brain_img_init = Brain_img_preprocessed\n",
    "else:\n",
    "    Thorax_img_init = Thorax_img\n",
    "    Skin_img_init = Skin_img\n",
    "    Brain_img_init = Brain_img"
   ]
  },
  {
   "cell_type": "markdown",
   "metadata": {
    "id": "HgU8fXcR2dg9"
   },
   "source": [
    "*Definition und Anwendung von verschiedenen Augmentierungsmethoden:*"
   ]
  },
  {
   "cell_type": "code",
   "execution_count": null,
   "metadata": {
    "id": "_c1SfprtY6cs"
   },
   "outputs": [],
   "source": [
    "augmentation = []\n",
    "\n",
    "Thorax_img_augmented = Thorax_img_init\n",
    "Skin_img_augmented = Skin_img_init\n",
    "Brain_img_augmented = Brain_img_init"
   ]
  },
  {
   "cell_type": "code",
   "execution_count": null,
   "metadata": {
    "id": "KEjVbC6AahCY"
   },
   "outputs": [],
   "source": [
    "# affine transformation, will be applied directly\n",
    "angle = 5  # angle of ration, choose from [-180, 180]\n",
    "t_x = 10  # translation in x direction, choose from [0, 256]\n",
    "t_y = 10  # translation in y direction, choose from [0, 256]\n",
    "scale = 0.9  # scaling rate, choose from [0.1, 1.0]\n",
    "shear = 5  # shearing in degrees, choose from [0, 180]\n",
    "\n",
    "Thorax_img_augmented = T.functional.affine(img=Thorax_img_augmented, angle=angle, translate=(t_x, t_y), scale=scale, shear=shear)\n",
    "Skin_img_augmented = T.functional.affine(img=Skin_img_augmented, angle=angle, translate=(t_x, t_y), scale=scale, shear=shear)\n",
    "Brain_img_augmented = T.functional.affine(img=Brain_img_augmented, angle=angle, translate=(t_x, t_y), scale=scale, shear=shear)"
   ]
  },
  {
   "cell_type": "code",
   "execution_count": null,
   "metadata": {
    "id": "tQu1YUDNb23Q"
   },
   "outputs": [],
   "source": [
    "# gaussian blur\n",
    "kernel_size = 3  # kernel size, choose from [3, 33] in steps of 2\n",
    "sigma = 0.1  # standard deviation, choose from [0.1, 15.0]\n",
    "\n",
    "augmentation.append(T.GaussianBlur(kernel_size=kernel_size, sigma=sigma))"
   ]
  },
  {
   "cell_type": "code",
   "execution_count": null,
   "metadata": {
    "id": "Hk40u-9JcPPh"
   },
   "outputs": [],
   "source": [
    "# color jitter\n",
    "brightness = 0.75  # brightness, choose from [0.0, 1.0]\n",
    "contrast = 0.75  # contrast, choose from [0.0, 1.0]\n",
    "saturation = 0.75  # saturation, choose from [0.0, 1.0]\n",
    "hue = 0.0  # hue, choose from [-0.5, 0.5]\n",
    "\n",
    "augmentation.append(T.ColorJitter(brightness=[brightness, brightness], contrast=contrast, saturation=saturation, hue=hue))"
   ]
  },
  {
   "cell_type": "code",
   "execution_count": null,
   "metadata": {
    "id": "G_XRnCHBc1_I"
   },
   "outputs": [],
   "source": [
    "# random cropping\n",
    "size = 256  # cropping size, choose from [4, 512]\n",
    "\n",
    "augmentation.append(T.RandomCrop(size=(size, size), padding=None, padding_mode=None))"
   ]
  },
  {
   "cell_type": "code",
   "execution_count": null,
   "metadata": {
    "id": "1b3BFfJLdIBw"
   },
   "outputs": [],
   "source": [
    "# mirroring, will be applied directly\n",
    "mirror_axis = 'vertical'  # 'vertical' or 'horizontal'\n",
    "\n",
    "if mirror_axis == 'vertical':\n",
    "    Thorax_img_augmented = T.functional.vflip(Thorax_img_augmented)\n",
    "    Skin_img_augmented = T.functional.vflip(Skin_img_augmented)\n",
    "    Brain_img_augmented = T.functional.vflip(Brain_img_augmented)\n",
    "elif mirror_axis == 'horizontal':\n",
    "    Thorax_img_augmented = T.functional.hflip(Thorax_img_augmented)\n",
    "    Skin_img_augmented = T.functional.hflip(Skin_img_augmented)\n",
    "    Brain_img_augmented = T.functional.hflip(Brain_img_augmented)"
   ]
  },
  {
   "cell_type": "code",
   "execution_count": null,
   "metadata": {
    "id": "H-OqoQ8geAvw"
   },
   "outputs": [],
   "source": [
    "# noise, will be applied directly\n",
    "noise_mode = ['gaussian', 'speckle', 'poisson', 's&p']\n",
    "\n",
    "Thorax_img_augmented = random_noise(np.array(Thorax_img_augmented), mode=noise_mode[0], clip=True)\n",
    "Skin_img_augmented = random_noise(np.array(Skin_img_augmented), mode=noise_mode[0], clip=True)\n",
    "Brain_img_augmented = random_noise(np.array(Brain_img_augmented), mode=noise_mode[0], clip=True)\n",
    "\n",
    "Thorax_img_augmented = Image.fromarray(((Thorax_img_augmented / Thorax_img_augmented.max())*255).astype(np.uint8))\n",
    "Skin_img_augmented = Image.fromarray(((Skin_img_augmented / Skin_img_augmented.max())*255).astype(np.uint8))\n",
    "Brain_img_augmented = Image.fromarray(((Brain_img_augmented / Brain_img_augmented.max())*255).astype(np.uint8))"
   ]
  },
  {
   "cell_type": "code",
   "execution_count": null,
   "metadata": {
    "id": "HETf3QT9ebfd"
   },
   "outputs": [],
   "source": [
    "# apply augmentation methods\n",
    "augmentation = torch.nn.Sequential(*augmentation)\n",
    "\n",
    "Thorax_img_augmented = augmentation(Thorax_img_augmented)\n",
    "Skin_img_augmented = augmentation(Skin_img_augmented)\n",
    "Brain_img_augmented = augmentation(Brain_img_augmented)"
   ]
  },
  {
   "cell_type": "markdown",
   "metadata": {
    "id": "HFfuK7KW2ig9"
   },
   "source": [
    "*Darstellung der augmentierten Bilddaten:*"
   ]
  },
  {
   "cell_type": "code",
   "execution_count": null,
   "metadata": {
    "id": "WYq9Ma25e4fv"
   },
   "outputs": [],
   "source": [
    "# display\n",
    "plot_images_before_after(Thorax_img_init, Skin_img_init, Brain_img_init, Thorax_img_augmented, Skin_img_augmented, Brain_img_augmented)"
   ]
  },
  {
   "cell_type": "code",
   "execution_count": null,
   "metadata": {},
   "outputs": [],
   "source": []
  }
 ],
 "metadata": {
  "colab": {
   "collapsed_sections": [],
   "name": "learn2trust_l3.ipynb",
   "provenance": []
  },
  "kernelspec": {
   "display_name": "Python 3 (ipykernel)",
   "language": "python",
   "name": "python3"
  },
  "language_info": {
   "codemirror_mode": {
    "name": "ipython",
    "version": 3
   },
   "file_extension": ".py",
   "mimetype": "text/x-python",
   "name": "python",
   "nbconvert_exporter": "python",
   "pygments_lexer": "ipython3",
   "version": "3.10.6"
  }
 },
 "nbformat": 4,
 "nbformat_minor": 4
}
